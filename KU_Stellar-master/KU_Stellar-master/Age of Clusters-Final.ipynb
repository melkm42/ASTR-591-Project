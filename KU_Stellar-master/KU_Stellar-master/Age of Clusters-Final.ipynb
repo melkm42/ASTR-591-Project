{
 "cells": [
  {
   "cell_type": "markdown",
   "metadata": {},
   "source": [
    "<h1> Age of Stellar Clusters Project</h1>\n",
    "<p1> Welcome! This is the Jupyer Notebook write-up for your semester-long project. Put together by Kurt Hamblin.</p1>"
   ]
  },
  {
   "cell_type": "markdown",
   "metadata": {},
   "source": [
    "<h4>General jupyter notebook keyboard-shortcurts:</h4>\n",
    "<ul>\n",
    "  <li>shift+enter: run selected cell, select cell below</li>\n",
    "  <li>ctrl+enter: run selected cell</li>\n",
    "  <li>To run all cells: \n",
    "      <ol>\n",
    "          <li>Click: 'Cell'</li>\n",
    "          <li>Click: 'Run All'</li>\n",
    "      </ol>\n",
    "  </li>\n",
    "  <li>To run all cells below/above current selected cell: \n",
    "      <ol>\n",
    "          <li>Click: 'Cell'</li>\n",
    "          <li>Click: 'Run All Below/Above'</li>\n",
    "      </ol>\n",
    "  </li>\n",
    "</ul>\n",
    "\n",
    "<h4>Other General Notes</h4>\n",
    "<ul>\n",
    "    <li><b>Please do not unnecessarily edit code, if you change certain things the code will not work. Edit at your own peril!</b></li>\n",
    "    <li>To hide a code cell block to make things easier to read, click the 'Toggle show/hide' button in the output cell</li>\n",
    "    <li><u>If you change one of your inputs, make sure to re-run all cells below (as per above).</u> When you change a selection, cells below will not reflect that change until they are re-run. If some weird behavior pops up try re-running all below first.<li>\n",
    "    <li>If you are unsure what a piece of code is doing and feel like you need to know, you can likely find examples of it online!</li>\n",
    "    <li>Remember to ask your classmates for help if you need it, especially if this is your first time using Jupyer. There's no shame in asking for help!</li>\n",
    "</ul>"
   ]
  },
  {
   "cell_type": "markdown",
   "metadata": {},
   "source": [
    "<h3 align='center'>Here are the Tables of clusters for your reference.</h3>\n",
    "<p1 align='center'>Note: Compare the converted RA and DEC values here to your own to verify everything.</p1>"
   ]
  },
  {
   "cell_type": "code",
   "execution_count": 2,
   "metadata": {},
   "outputs": [
    {
     "data": {
      "text/html": [
       "<style  type=\"text/css\" >\n",
       "    #T_74c453d8_20e3_11ea_95d0_9310b82fb4f8 tr:hover {\n",
       "          background-color: #ffff99;\n",
       "    }    #T_74c453d8_20e3_11ea_95d0_9310b82fb4f8 th {\n",
       "          font-size: 130%;\n",
       "          text-align: center;\n",
       "          text-align: center;\n",
       "    }    #T_74c453d8_20e3_11ea_95d0_9310b82fb4f8 caption {\n",
       "          caption-side: top;\n",
       "          font-size: 150%;\n",
       "    }</style><table id=\"T_74c453d8_20e3_11ea_95d0_9310b82fb4f8\" ><caption>Open Clusters.</caption><thead>    <tr>        <th class=\"blank level0\" ></th>        <th class=\"col_heading level0 col0\" >Name</th>        <th class=\"col_heading level0 col1\" >RA (J2000)</th>        <th class=\"col_heading level0 col2\" >DEC (J2000)</th>        <th class=\"col_heading level0 col3\" >RA (DEG)</th>        <th class=\"col_heading level0 col4\" >DEC (DEG)</th>        <th class=\"col_heading level0 col5\" >Distance (pc)</th>    </tr></thead><tbody>\n",
       "                <tr>\n",
       "                        <th id=\"T_74c453d8_20e3_11ea_95d0_9310b82fb4f8level0_row0\" class=\"row_heading level0 row0\" >0</th>\n",
       "                        <td id=\"T_74c453d8_20e3_11ea_95d0_9310b82fb4f8row0_col0\" class=\"data row0 col0\" >NGC 3293</td>\n",
       "                        <td id=\"T_74c453d8_20e3_11ea_95d0_9310b82fb4f8row0_col1\" class=\"data row0 col1\" >10 35 49</td>\n",
       "                        <td id=\"T_74c453d8_20e3_11ea_95d0_9310b82fb4f8row0_col2\" class=\"data row0 col2\" >-58 13 48</td>\n",
       "                        <td id=\"T_74c453d8_20e3_11ea_95d0_9310b82fb4f8row0_col3\" class=\"data row0 col3\" >158.954</td>\n",
       "                        <td id=\"T_74c453d8_20e3_11ea_95d0_9310b82fb4f8row0_col4\" class=\"data row0 col4\" >-58.23</td>\n",
       "                        <td id=\"T_74c453d8_20e3_11ea_95d0_9310b82fb4f8row0_col5\" class=\"data row0 col5\" >2750</td>\n",
       "            </tr>\n",
       "            <tr>\n",
       "                        <th id=\"T_74c453d8_20e3_11ea_95d0_9310b82fb4f8level0_row1\" class=\"row_heading level0 row1\" >1</th>\n",
       "                        <td id=\"T_74c453d8_20e3_11ea_95d0_9310b82fb4f8row1_col0\" class=\"data row1 col0\" >M 11</td>\n",
       "                        <td id=\"T_74c453d8_20e3_11ea_95d0_9310b82fb4f8row1_col1\" class=\"data row1 col1\" >18 51 05</td>\n",
       "                        <td id=\"T_74c453d8_20e3_11ea_95d0_9310b82fb4f8row1_col2\" class=\"data row1 col2\" >-06 16 12</td>\n",
       "                        <td id=\"T_74c453d8_20e3_11ea_95d0_9310b82fb4f8row1_col3\" class=\"data row1 col3\" >282.771</td>\n",
       "                        <td id=\"T_74c453d8_20e3_11ea_95d0_9310b82fb4f8row1_col4\" class=\"data row1 col4\" >-6.27</td>\n",
       "                        <td id=\"T_74c453d8_20e3_11ea_95d0_9310b82fb4f8row1_col5\" class=\"data row1 col5\" >1900</td>\n",
       "            </tr>\n",
       "            <tr>\n",
       "                        <th id=\"T_74c453d8_20e3_11ea_95d0_9310b82fb4f8level0_row2\" class=\"row_heading level0 row2\" >2</th>\n",
       "                        <td id=\"T_74c453d8_20e3_11ea_95d0_9310b82fb4f8row2_col0\" class=\"data row2 col0\" >M 26</td>\n",
       "                        <td id=\"T_74c453d8_20e3_11ea_95d0_9310b82fb4f8row2_col1\" class=\"data row2 col1\" >18 45 18</td>\n",
       "                        <td id=\"T_74c453d8_20e3_11ea_95d0_9310b82fb4f8row2_col2\" class=\"data row2 col2\" >-09 23 00</td>\n",
       "                        <td id=\"T_74c453d8_20e3_11ea_95d0_9310b82fb4f8row2_col3\" class=\"data row2 col3\" >281.325</td>\n",
       "                        <td id=\"T_74c453d8_20e3_11ea_95d0_9310b82fb4f8row2_col4\" class=\"data row2 col4\" >-9.38333</td>\n",
       "                        <td id=\"T_74c453d8_20e3_11ea_95d0_9310b82fb4f8row2_col5\" class=\"data row2 col5\" >1533</td>\n",
       "            </tr>\n",
       "            <tr>\n",
       "                        <th id=\"T_74c453d8_20e3_11ea_95d0_9310b82fb4f8level0_row3\" class=\"row_heading level0 row3\" >3</th>\n",
       "                        <td id=\"T_74c453d8_20e3_11ea_95d0_9310b82fb4f8row3_col0\" class=\"data row3 col0\" >M 35</td>\n",
       "                        <td id=\"T_74c453d8_20e3_11ea_95d0_9310b82fb4f8row3_col1\" class=\"data row3 col1\" >06 08 54</td>\n",
       "                        <td id=\"T_74c453d8_20e3_11ea_95d0_9310b82fb4f8row3_col2\" class=\"data row3 col2\" >+24 20 00</td>\n",
       "                        <td id=\"T_74c453d8_20e3_11ea_95d0_9310b82fb4f8row3_col3\" class=\"data row3 col3\" >92.225</td>\n",
       "                        <td id=\"T_74c453d8_20e3_11ea_95d0_9310b82fb4f8row3_col4\" class=\"data row3 col4\" >24.3333</td>\n",
       "                        <td id=\"T_74c453d8_20e3_11ea_95d0_9310b82fb4f8row3_col5\" class=\"data row3 col5\" >858</td>\n",
       "            </tr>\n",
       "            <tr>\n",
       "                        <th id=\"T_74c453d8_20e3_11ea_95d0_9310b82fb4f8level0_row4\" class=\"row_heading level0 row4\" >4</th>\n",
       "                        <td id=\"T_74c453d8_20e3_11ea_95d0_9310b82fb4f8row4_col0\" class=\"data row4 col0\" >M 44</td>\n",
       "                        <td id=\"T_74c453d8_20e3_11ea_95d0_9310b82fb4f8row4_col1\" class=\"data row4 col1\" >08 40 24</td>\n",
       "                        <td id=\"T_74c453d8_20e3_11ea_95d0_9310b82fb4f8row4_col2\" class=\"data row4 col2\" >+19 40 00</td>\n",
       "                        <td id=\"T_74c453d8_20e3_11ea_95d0_9310b82fb4f8row4_col3\" class=\"data row4 col3\" >130.1</td>\n",
       "                        <td id=\"T_74c453d8_20e3_11ea_95d0_9310b82fb4f8row4_col4\" class=\"data row4 col4\" >19.6667</td>\n",
       "                        <td id=\"T_74c453d8_20e3_11ea_95d0_9310b82fb4f8row4_col5\" class=\"data row4 col5\" >177</td>\n",
       "            </tr>\n",
       "            <tr>\n",
       "                        <th id=\"T_74c453d8_20e3_11ea_95d0_9310b82fb4f8level0_row5\" class=\"row_heading level0 row5\" >5</th>\n",
       "                        <td id=\"T_74c453d8_20e3_11ea_95d0_9310b82fb4f8row5_col0\" class=\"data row5 col0\" >M 45</td>\n",
       "                        <td id=\"T_74c453d8_20e3_11ea_95d0_9310b82fb4f8row5_col1\" class=\"data row5 col1\" >03 47 00</td>\n",
       "                        <td id=\"T_74c453d8_20e3_11ea_95d0_9310b82fb4f8row5_col2\" class=\"data row5 col2\" >+24 07 00</td>\n",
       "                        <td id=\"T_74c453d8_20e3_11ea_95d0_9310b82fb4f8row5_col3\" class=\"data row5 col3\" >56.75</td>\n",
       "                        <td id=\"T_74c453d8_20e3_11ea_95d0_9310b82fb4f8row5_col4\" class=\"data row5 col4\" >24.1167</td>\n",
       "                        <td id=\"T_74c453d8_20e3_11ea_95d0_9310b82fb4f8row5_col5\" class=\"data row5 col5\" >135</td>\n",
       "            </tr>\n",
       "            <tr>\n",
       "                        <th id=\"T_74c453d8_20e3_11ea_95d0_9310b82fb4f8level0_row6\" class=\"row_heading level0 row6\" >6</th>\n",
       "                        <td id=\"T_74c453d8_20e3_11ea_95d0_9310b82fb4f8row6_col0\" class=\"data row6 col0\" >M 46</td>\n",
       "                        <td id=\"T_74c453d8_20e3_11ea_95d0_9310b82fb4f8row6_col1\" class=\"data row6 col1\" >07 41 46</td>\n",
       "                        <td id=\"T_74c453d8_20e3_11ea_95d0_9310b82fb4f8row6_col2\" class=\"data row6 col2\" >-14 48 36</td>\n",
       "                        <td id=\"T_74c453d8_20e3_11ea_95d0_9310b82fb4f8row6_col3\" class=\"data row6 col3\" >115.442</td>\n",
       "                        <td id=\"T_74c453d8_20e3_11ea_95d0_9310b82fb4f8row6_col4\" class=\"data row6 col4\" >-14.81</td>\n",
       "                        <td id=\"T_74c453d8_20e3_11ea_95d0_9310b82fb4f8row6_col5\" class=\"data row6 col5\" >1656</td>\n",
       "            </tr>\n",
       "    </tbody></table>"
      ],
      "text/plain": [
       "<pandas.io.formats.style.Styler at 0x7f82ea4de410>"
      ]
     },
     "metadata": {},
     "output_type": "display_data"
    },
    {
     "data": {
      "text/html": [
       "<style  type=\"text/css\" >\n",
       "    #T_74c5b688_20e3_11ea_95d0_9310b82fb4f8 tr:hover {\n",
       "          background-color: #ffff99;\n",
       "    }    #T_74c5b688_20e3_11ea_95d0_9310b82fb4f8 th {\n",
       "          font-size: 130%;\n",
       "          text-align: center;\n",
       "          text-align: center;\n",
       "    }    #T_74c5b688_20e3_11ea_95d0_9310b82fb4f8 caption {\n",
       "          caption-side: top;\n",
       "          font-size: 150%;\n",
       "    }</style><table id=\"T_74c5b688_20e3_11ea_95d0_9310b82fb4f8\" ><caption>Globular Clusters.</caption><thead>    <tr>        <th class=\"blank level0\" ></th>        <th class=\"col_heading level0 col0\" >Name</th>        <th class=\"col_heading level0 col1\" >RA (J2000)</th>        <th class=\"col_heading level0 col2\" >DEC (J2000)</th>        <th class=\"col_heading level0 col3\" >RA (DEG)</th>        <th class=\"col_heading level0 col4\" >DEC (DEG)</th>        <th class=\"col_heading level0 col5\" >Distance (pc)</th>    </tr></thead><tbody>\n",
       "                <tr>\n",
       "                        <th id=\"T_74c5b688_20e3_11ea_95d0_9310b82fb4f8level0_row0\" class=\"row_heading level0 row0\" >0</th>\n",
       "                        <td id=\"T_74c5b688_20e3_11ea_95d0_9310b82fb4f8row0_col0\" class=\"data row0 col0\" >47 Tuc</td>\n",
       "                        <td id=\"T_74c5b688_20e3_11ea_95d0_9310b82fb4f8row0_col1\" class=\"data row0 col1\" >00 24 05.4</td>\n",
       "                        <td id=\"T_74c5b688_20e3_11ea_95d0_9310b82fb4f8row0_col2\" class=\"data row0 col2\" >-72 04 53.2</td>\n",
       "                        <td id=\"T_74c5b688_20e3_11ea_95d0_9310b82fb4f8row0_col3\" class=\"data row0 col3\" >6.0225</td>\n",
       "                        <td id=\"T_74c5b688_20e3_11ea_95d0_9310b82fb4f8row0_col4\" class=\"data row0 col4\" >-72.0814</td>\n",
       "                        <td id=\"T_74c5b688_20e3_11ea_95d0_9310b82fb4f8row0_col5\" class=\"data row0 col5\" >4001</td>\n",
       "            </tr>\n",
       "            <tr>\n",
       "                        <th id=\"T_74c5b688_20e3_11ea_95d0_9310b82fb4f8level0_row1\" class=\"row_heading level0 row1\" >1</th>\n",
       "                        <td id=\"T_74c5b688_20e3_11ea_95d0_9310b82fb4f8row1_col0\" class=\"data row1 col0\" >M 2</td>\n",
       "                        <td id=\"T_74c5b688_20e3_11ea_95d0_9310b82fb4f8row1_col1\" class=\"data row1 col1\" >21 33 27.0</td>\n",
       "                        <td id=\"T_74c5b688_20e3_11ea_95d0_9310b82fb4f8row1_col2\" class=\"data row1 col2\" >-00 49 23.7</td>\n",
       "                        <td id=\"T_74c5b688_20e3_11ea_95d0_9310b82fb4f8row1_col3\" class=\"data row1 col3\" >323.363</td>\n",
       "                        <td id=\"T_74c5b688_20e3_11ea_95d0_9310b82fb4f8row1_col4\" class=\"data row1 col4\" >-0.82325</td>\n",
       "                        <td id=\"T_74c5b688_20e3_11ea_95d0_9310b82fb4f8row1_col5\" class=\"data row1 col5\" >16863</td>\n",
       "            </tr>\n",
       "            <tr>\n",
       "                        <th id=\"T_74c5b688_20e3_11ea_95d0_9310b82fb4f8level0_row2\" class=\"row_heading level0 row2\" >2</th>\n",
       "                        <td id=\"T_74c5b688_20e3_11ea_95d0_9310b82fb4f8row2_col0\" class=\"data row2 col0\" >M 3</td>\n",
       "                        <td id=\"T_74c5b688_20e3_11ea_95d0_9310b82fb4f8row2_col1\" class=\"data row2 col1\" >13 42 11.6</td>\n",
       "                        <td id=\"T_74c5b688_20e3_11ea_95d0_9310b82fb4f8row2_col2\" class=\"data row2 col2\" >+28 22 38.2</td>\n",
       "                        <td id=\"T_74c5b688_20e3_11ea_95d0_9310b82fb4f8row2_col3\" class=\"data row2 col3\" >205.548</td>\n",
       "                        <td id=\"T_74c5b688_20e3_11ea_95d0_9310b82fb4f8row2_col4\" class=\"data row2 col4\" >28.3773</td>\n",
       "                        <td id=\"T_74c5b688_20e3_11ea_95d0_9310b82fb4f8row2_col5\" class=\"data row2 col5\" >10400</td>\n",
       "            </tr>\n",
       "            <tr>\n",
       "                        <th id=\"T_74c5b688_20e3_11ea_95d0_9310b82fb4f8level0_row3\" class=\"row_heading level0 row3\" >3</th>\n",
       "                        <td id=\"T_74c5b688_20e3_11ea_95d0_9310b82fb4f8row3_col0\" class=\"data row3 col0\" >M 5</td>\n",
       "                        <td id=\"T_74c5b688_20e3_11ea_95d0_9310b82fb4f8row3_col1\" class=\"data row3 col1\" >15 18 33.2</td>\n",
       "                        <td id=\"T_74c5b688_20e3_11ea_95d0_9310b82fb4f8row3_col2\" class=\"data row3 col2\" >+02 04 51.7</td>\n",
       "                        <td id=\"T_74c5b688_20e3_11ea_95d0_9310b82fb4f8row3_col3\" class=\"data row3 col3\" >229.638</td>\n",
       "                        <td id=\"T_74c5b688_20e3_11ea_95d0_9310b82fb4f8row3_col4\" class=\"data row3 col4\" >2.08103</td>\n",
       "                        <td id=\"T_74c5b688_20e3_11ea_95d0_9310b82fb4f8row3_col5\" class=\"data row3 col5\" >7499</td>\n",
       "            </tr>\n",
       "            <tr>\n",
       "                        <th id=\"T_74c5b688_20e3_11ea_95d0_9310b82fb4f8level0_row4\" class=\"row_heading level0 row4\" >4</th>\n",
       "                        <td id=\"T_74c5b688_20e3_11ea_95d0_9310b82fb4f8row4_col0\" class=\"data row4 col0\" >M 13</td>\n",
       "                        <td id=\"T_74c5b688_20e3_11ea_95d0_9310b82fb4f8row4_col1\" class=\"data row4 col1\" >16 41 41.6</td>\n",
       "                        <td id=\"T_74c5b688_20e3_11ea_95d0_9310b82fb4f8row4_col2\" class=\"data row4 col2\" >+36 27 40.8</td>\n",
       "                        <td id=\"T_74c5b688_20e3_11ea_95d0_9310b82fb4f8row4_col3\" class=\"data row4 col3\" >250.423</td>\n",
       "                        <td id=\"T_74c5b688_20e3_11ea_95d0_9310b82fb4f8row4_col4\" class=\"data row4 col4\" >36.4613</td>\n",
       "                        <td id=\"T_74c5b688_20e3_11ea_95d0_9310b82fb4f8row4_col5\" class=\"data row4 col5\" >6800</td>\n",
       "            </tr>\n",
       "            <tr>\n",
       "                        <th id=\"T_74c5b688_20e3_11ea_95d0_9310b82fb4f8level0_row5\" class=\"row_heading level0 row5\" >5</th>\n",
       "                        <td id=\"T_74c5b688_20e3_11ea_95d0_9310b82fb4f8row5_col0\" class=\"data row5 col0\" >M 14</td>\n",
       "                        <td id=\"T_74c5b688_20e3_11ea_95d0_9310b82fb4f8row5_col1\" class=\"data row5 col1\" >17 37 36.2</td>\n",
       "                        <td id=\"T_74c5b688_20e3_11ea_95d0_9310b82fb4f8row5_col2\" class=\"data row5 col2\" >-03 14 45.3</td>\n",
       "                        <td id=\"T_74c5b688_20e3_11ea_95d0_9310b82fb4f8row5_col3\" class=\"data row5 col3\" >264.401</td>\n",
       "                        <td id=\"T_74c5b688_20e3_11ea_95d0_9310b82fb4f8row5_col4\" class=\"data row5 col4\" >-3.24592</td>\n",
       "                        <td id=\"T_74c5b688_20e3_11ea_95d0_9310b82fb4f8row5_col5\" class=\"data row5 col5\" >9290</td>\n",
       "            </tr>\n",
       "            <tr>\n",
       "                        <th id=\"T_74c5b688_20e3_11ea_95d0_9310b82fb4f8level0_row6\" class=\"row_heading level0 row6\" >6</th>\n",
       "                        <td id=\"T_74c5b688_20e3_11ea_95d0_9310b82fb4f8row6_col0\" class=\"data row6 col0\" >M 30</td>\n",
       "                        <td id=\"T_74c5b688_20e3_11ea_95d0_9310b82fb4f8row6_col1\" class=\"data row6 col1\" >21 40 22.1</td>\n",
       "                        <td id=\"T_74c5b688_20e3_11ea_95d0_9310b82fb4f8row6_col2\" class=\"data row6 col2\" >-23 10 47.5</td>\n",
       "                        <td id=\"T_74c5b688_20e3_11ea_95d0_9310b82fb4f8row6_col3\" class=\"data row6 col3\" >325.092</td>\n",
       "                        <td id=\"T_74c5b688_20e3_11ea_95d0_9310b82fb4f8row6_col4\" class=\"data row6 col4\" >-23.1799</td>\n",
       "                        <td id=\"T_74c5b688_20e3_11ea_95d0_9310b82fb4f8row6_col5\" class=\"data row6 col5\" >8300</td>\n",
       "            </tr>\n",
       "    </tbody></table>"
      ],
      "text/plain": [
       "<pandas.io.formats.style.Styler at 0x7f82ea547e90>"
      ]
     },
     "metadata": {},
     "output_type": "display_data"
    },
    {
     "data": {
      "text/html": [
       "\n",
       "        <script>\n",
       "            function code_toggle_11680730042953225092() {\n",
       "                $('div.cell.code_cell.rendered.selected').find('div.input').toggle();\n",
       "            }\n",
       "\n",
       "            \n",
       "        </script>\n",
       "\n",
       "        <a href=\"javascript:code_toggle_11680730042953225092()\">Toggle show/hide</a>\n",
       "    "
      ],
      "text/plain": [
       "<IPython.core.display.HTML object>"
      ]
     },
     "execution_count": 2,
     "metadata": {},
     "output_type": "execute_result"
    }
   ],
   "source": [
    "from __future__ import division\n",
    "import hide_toggle\n",
    "import pandas as pd\n",
    "import cluster as cl\n",
    "import numpy as np\n",
    "from IPython.display import HTML\n",
    "from IPython.display import display\n",
    "from IPython.display import display_pretty\n",
    "from ipywidgets import interact, interactive, fixed, interact_manual, Layout\n",
    "from matplotlib.collections import LineCollection\n",
    "import matplotlib.pyplot as plt\n",
    "import matplotlib\n",
    "\n",
    "#Display the cluster tables\n",
    "display(cl.open_cluster_out)\n",
    "display(cl.globular_cluster_out)\n",
    "\n",
    "hide_toggle.hide_toggle()"
   ]
  },
  {
   "cell_type": "markdown",
   "metadata": {},
   "source": [
    "<h2> Cluster Plotting </h2>\n",
    "<p1>Your first task is to develop plots for the clusters of your choice. Remember, you need to choose <b>(1) Open Cluster</b> and also <b>(1) Globular Cluster</b>! Enter the names of your clusters of choice below: \n",
    "    "
   ]
  },
  {
   "cell_type": "code",
   "execution_count": 3,
   "metadata": {},
   "outputs": [
    {
     "data": {
      "application/vnd.jupyter.widget-view+json": {
       "model_id": "be768ae9e4154558b28ec249187667e9",
       "version_major": 2,
       "version_minor": 0
      },
      "text/plain": [
       "aW50ZXJhY3RpdmUoY2hpbGRyZW49KERyb3Bkb3duKGRlc2NyaXB0aW9uPXUnT3Blbl9DbHVzdGVyJywgb3B0aW9ucz17J00gMzUnOiA8Y2x1c3Rlci5jbHVzdGVyIGluc3RhbmNlIGF0IDB4N2bigKY=\n"
      ]
     },
     "metadata": {},
     "output_type": "display_data"
    },
    {
     "data": {
      "application/vnd.jupyter.widget-view+json": {
       "model_id": "6db672890f224c839727d263f84497aa",
       "version_major": 2,
       "version_minor": 0
      },
      "text/plain": [
       "aW50ZXJhY3RpdmUoY2hpbGRyZW49KERyb3Bkb3duKGRlc2NyaXB0aW9uPXUnR2xvYnVsYXJfQ2x1c3RlcicsIG9wdGlvbnM9eydNIDUnOiA8Y2x1c3Rlci5jbHVzdGVyIGluc3RhbmNlIGF0IDDigKY=\n"
      ]
     },
     "metadata": {},
     "output_type": "display_data"
    },
    {
     "data": {
      "text/html": [
       "\n",
       "        <script>\n",
       "            function code_toggle_5604961631266940587() {\n",
       "                $('div.cell.code_cell.rendered.selected').find('div.input').toggle();\n",
       "            }\n",
       "\n",
       "            \n",
       "        </script>\n",
       "\n",
       "        <a href=\"javascript:code_toggle_5604961631266940587()\">Toggle show/hide</a>\n",
       "    "
      ],
      "text/plain": [
       "<IPython.core.display.HTML object>"
      ]
     },
     "execution_count": 3,
     "metadata": {},
     "output_type": "execute_result"
    }
   ],
   "source": [
    "def open_clus(Open_Cluster):\n",
    "    return Open_Cluster\n",
    "def glob_clus(Globular_Cluster):\n",
    "    return Globular_Cluster\n",
    "\n",
    "#These lines of code made use of ipywidgets interactive to display the drop-down-menus below. \n",
    "pl_open = interactive(open_clus, Open_Cluster = {cl.open_clusters[i].name:cl.open_clusters[i] for i in range(len(cl.open_clusters))})\n",
    "pl_glob = interactive(glob_clus, Globular_Cluster = {cl.globular_clusters[i].name:cl.globular_clusters[i] for i in range(len(cl.globular_clusters))})\n",
    "display(pl_open)\n",
    "display(pl_glob)\n",
    "hide_toggle.hide_toggle()"
   ]
  },
  {
   "cell_type": "markdown",
   "metadata": {},
   "source": [
    "<h3>Matching</h3>\n",
    "<p1>Now that you have selected the clusters you are going to use for your project, you need to find all of the stars that are actually in the clusters you chose. To do this, you will first define a distance threshold from the cluster center, in which all stars are considered to be a part of the cluster. Dr. Kirkpatrick recommends that you start with 15' and adjust from there. <i>Note how changing this distance affects the plots. You will need to play around with this some</i></p1>"
   ]
  },
  {
   "cell_type": "code",
   "execution_count": 14,
   "metadata": {},
   "outputs": [
    {
     "data": {
      "application/vnd.jupyter.widget-view+json": {
       "model_id": "b9fa491c9d324017b9b3022a87ba7e60",
       "version_major": 2,
       "version_minor": 0
      },
      "text/plain": [
       "aW50ZXJhY3RpdmUoY2hpbGRyZW49KEZsb2F0U2xpZGVyKHZhbHVlPTE1LjAsIGRlc2NyaXB0aW9uPXUnZF9PcGVuJywgbWF4PTE1LjApLCBGbG9hdFNsaWRlcih2YWx1ZT0xNS4wLCBkZXNjcmnigKY=\n"
      ]
     },
     "metadata": {},
     "output_type": "display_data"
    },
    {
     "data": {
      "text/html": [
       "\n",
       "        <script>\n",
       "            function code_toggle_11671950898086613335() {\n",
       "                $('div.cell.code_cell.rendered.selected').find('div.input').toggle();\n",
       "            }\n",
       "\n",
       "            \n",
       "        </script>\n",
       "\n",
       "        <a href=\"javascript:code_toggle_11671950898086613335()\">Toggle show/hide</a>\n",
       "    "
      ],
      "text/plain": [
       "<IPython.core.display.HTML object>"
      ]
     },
     "execution_count": 14,
     "metadata": {},
     "output_type": "execute_result"
    }
   ],
   "source": [
    "def dist_thresh(d_Open=15.0, d_Globular=15.0):\n",
    "    return d_Open, d_Globular\n",
    "\n",
    "#Again, we make the interactive elements.\n",
    "pl_dist_thresh = interactive(dist_thresh, d_Open = (0.0, 15.0), d_Globular = (0.0,15.0), )\n",
    "display(pl_dist_thresh)\n",
    "hide_toggle.hide_toggle()"
   ]
  },
  {
   "cell_type": "markdown",
   "metadata": {},
   "source": [
    "<p1>Now we will load in the .csv file with all of the stars, and will print out a few lines from catalog so you can get a picture of how the data is formatted.</p1>"
   ]
  },
  {
   "cell_type": "code",
   "execution_count": 121,
   "metadata": {
    "scrolled": true
   },
   "outputs": [
    {
     "data": {
      "text/html": [
       "<div>\n",
       "<style scoped>\n",
       "    .dataframe tbody tr th:only-of-type {\n",
       "        vertical-align: middle;\n",
       "    }\n",
       "\n",
       "    .dataframe tbody tr th {\n",
       "        vertical-align: top;\n",
       "    }\n",
       "\n",
       "    .dataframe thead th {\n",
       "        text-align: right;\n",
       "    }\n",
       "</style>\n",
       "<table border=\"1\" class=\"dataframe\">\n",
       "  <thead>\n",
       "    <tr style=\"text-align: right;\">\n",
       "      <th></th>\n",
       "      <th>source_id</th>\n",
       "      <th>ra</th>\n",
       "      <th>dec</th>\n",
       "      <th>parallax</th>\n",
       "      <th>parallax_err</th>\n",
       "      <th>phot_g_mean_mag</th>\n",
       "      <th>phot_bp_mean_mag</th>\n",
       "      <th>phot_rp_mean_mag</th>\n",
       "    </tr>\n",
       "  </thead>\n",
       "  <tbody>\n",
       "    <tr>\n",
       "      <th>0</th>\n",
       "      <td>4689624865819376896</td>\n",
       "      <td>6.008655</td>\n",
       "      <td>-72.157928</td>\n",
       "      <td>0.108</td>\n",
       "      <td>0.080</td>\n",
       "      <td>17.020</td>\n",
       "      <td>17.055</td>\n",
       "      <td>16.246</td>\n",
       "    </tr>\n",
       "    <tr>\n",
       "      <th>1</th>\n",
       "      <td>4689624865837224320</td>\n",
       "      <td>6.016072</td>\n",
       "      <td>-72.158310</td>\n",
       "      <td>-0.295</td>\n",
       "      <td>0.174</td>\n",
       "      <td>18.236</td>\n",
       "      <td>18.168</td>\n",
       "      <td>17.287</td>\n",
       "    </tr>\n",
       "    <tr>\n",
       "      <th>2</th>\n",
       "      <td>4689624870101642752</td>\n",
       "      <td>6.010974</td>\n",
       "      <td>-72.158203</td>\n",
       "      <td>0.496</td>\n",
       "      <td>0.327</td>\n",
       "      <td>17.784</td>\n",
       "      <td>17.322</td>\n",
       "      <td>16.597</td>\n",
       "    </tr>\n",
       "    <tr>\n",
       "      <th>3</th>\n",
       "      <td>4689624865819321088</td>\n",
       "      <td>5.993331</td>\n",
       "      <td>-72.164162</td>\n",
       "      <td>0.290</td>\n",
       "      <td>0.081</td>\n",
       "      <td>17.244</td>\n",
       "      <td>17.406</td>\n",
       "      <td>16.594</td>\n",
       "    </tr>\n",
       "    <tr>\n",
       "      <th>4</th>\n",
       "      <td>4689624865837222272</td>\n",
       "      <td>6.010897</td>\n",
       "      <td>-72.163940</td>\n",
       "      <td>0.411</td>\n",
       "      <td>0.191</td>\n",
       "      <td>18.514</td>\n",
       "      <td>18.146</td>\n",
       "      <td>17.473</td>\n",
       "    </tr>\n",
       "    <tr>\n",
       "      <th>5</th>\n",
       "      <td>4689624870101663232</td>\n",
       "      <td>6.013179</td>\n",
       "      <td>-72.161293</td>\n",
       "      <td>-0.456</td>\n",
       "      <td>0.161</td>\n",
       "      <td>17.044</td>\n",
       "      <td>16.927</td>\n",
       "      <td>16.112</td>\n",
       "    </tr>\n",
       "    <tr>\n",
       "      <th>6</th>\n",
       "      <td>4689624870111621760</td>\n",
       "      <td>6.016263</td>\n",
       "      <td>-72.159187</td>\n",
       "      <td>0.187</td>\n",
       "      <td>0.057</td>\n",
       "      <td>16.554</td>\n",
       "      <td>16.850</td>\n",
       "      <td>15.849</td>\n",
       "    </tr>\n",
       "  </tbody>\n",
       "</table>\n",
       "</div>"
      ],
      "text/plain": [
       "             source_id        ra        dec  parallax  parallax_err  \\\n",
       "0  4689624865819376896  6.008655 -72.157928     0.108         0.080   \n",
       "1  4689624865837224320  6.016072 -72.158310    -0.295         0.174   \n",
       "2  4689624870101642752  6.010974 -72.158203     0.496         0.327   \n",
       "3  4689624865819321088  5.993331 -72.164162     0.290         0.081   \n",
       "4  4689624865837222272  6.010897 -72.163940     0.411         0.191   \n",
       "5  4689624870101663232  6.013179 -72.161293    -0.456         0.161   \n",
       "6  4689624870111621760  6.016263 -72.159187     0.187         0.057   \n",
       "\n",
       "   phot_g_mean_mag  phot_bp_mean_mag  phot_rp_mean_mag  \n",
       "0           17.020            17.055            16.246  \n",
       "1           18.236            18.168            17.287  \n",
       "2           17.784            17.322            16.597  \n",
       "3           17.244            17.406            16.594  \n",
       "4           18.514            18.146            17.473  \n",
       "5           17.044            16.927            16.112  \n",
       "6           16.554            16.850            15.849  "
      ]
     },
     "metadata": {},
     "output_type": "display_data"
    },
    {
     "data": {
      "text/html": [
       "\n",
       "        <script>\n",
       "            function code_toggle_6833686572319561373() {\n",
       "                $('div.cell.code_cell.rendered.selected').find('div.input').toggle();\n",
       "            }\n",
       "\n",
       "            \n",
       "        </script>\n",
       "\n",
       "        <a href=\"javascript:code_toggle_6833686572319561373()\">Toggle show/hide</a>\n",
       "    "
      ],
      "text/plain": [
       "<IPython.core.display.HTML object>"
      ]
     },
     "execution_count": 121,
     "metadata": {},
     "output_type": "execute_result"
    }
   ],
   "source": [
    "#This table contains all of the star data. We make use of the pandas dataframe here. Pandas is very powerful for \n",
    "# handling data, and if you are interested, I suggest you look at the documentation for it. It makes searching through\n",
    "# and sorting large data arrays very simple.\n",
    "\n",
    "all_data = pd.read_csv('cluster_cat.csv',delimiter=',')\n",
    "display(all_data[0:7]) #We display the first 7 stars (note that the index starts at 0)\n",
    "hide_toggle.hide_toggle()"
   ]
  },
  {
   "cell_type": "markdown",
   "metadata": {},
   "source": [
    "<h3>Determining Distance from Cluster</h3>\n",
    "<p1>Your next task is to write a function to calculate the distance from a star to a cluster. The Function below has already been laid out for you. You should need the star's RA and DEC values (star_RA and star_DEC, respectively) along with the cluster RA and DEC values (clus_RA and clus_DEC, respectively) to write this function. The function should <u> return the distance to the cluster</u>. Use what you learned in class about coordinate systems to write this out, and remember to <b>keep track of your units! </b>"
   ]
  },
  {
   "cell_type": "code",
   "execution_count": 122,
   "metadata": {},
   "outputs": [],
   "source": [
    "#Inputs: star RA + DEC, and cluster RA + DEC\n",
    "#output: distance from cluster (in arc seconds)\n",
    "def distance_from_cluster(star_RA, star_DEC, clus_RA, clus_DEC):\n",
    "    delta_RA = (clus_RA - star_RA)*np.cos(np.deg2rad(star_DEC))\n",
    "    delta_DEC = clus_DEC-star_DEC\n",
    "    #The value of the distance must be returned via the return statement below. If you do not return the value, the code has no access to the value!\n",
    "    return np.sqrt( delta_RA**2 + delta_DEC**2)"
   ]
  },
  {
   "cell_type": "code",
   "execution_count": 123,
   "metadata": {
    "scrolled": false
   },
   "outputs": [
    {
     "data": {
      "text/html": [
       "\n",
       "        <script>\n",
       "            function code_toggle_727290493760053205() {\n",
       "                $('div.cell.code_cell.rendered.selected').find('div.input').toggle();\n",
       "            }\n",
       "\n",
       "            \n",
       "        </script>\n",
       "\n",
       "        <a href=\"javascript:code_toggle_727290493760053205()\">Toggle show/hide</a>\n",
       "    "
      ],
      "text/plain": [
       "<IPython.core.display.HTML object>"
      ]
     },
     "execution_count": 123,
     "metadata": {},
     "output_type": "execute_result"
    }
   ],
   "source": [
    "###\n",
    "## These lines read in your entries into the cluster names and distance threshold boxes\n",
    "###\n",
    "Open_cluster = pl_open.result\n",
    "Globular_cluster = pl_glob.result\n",
    "distance_threshold_open = pl_dist_thresh.result[0]\n",
    "distance_threshold_glob = pl_dist_thresh.result[1]\n",
    "\n",
    "dist_thresh_open_deg = float(distance_threshold_open)/60\n",
    "dist_thresh_glob_deg = float(distance_threshold_open)/60\n",
    "###\n",
    "\n",
    "###\n",
    "## Let us define the cluster locations to easy to remember variables. Note that these are in degrees\n",
    "###\n",
    "open_cluster_RA , open_cluster_DEC = [float(val) for val in Open_cluster.get_position_degrees()]\n",
    "globular_cluster_RA, globular_cluster_DEC = [float(val) for val in Globular_cluster.get_position_degrees()]\n",
    "###\n",
    "\n",
    "#These lists will hold the indexes of the stars in the data catalog that belong in each cluster\n",
    "stars_inOpen = []\n",
    "stars_inGlobular = []\n",
    "#\n",
    "\n",
    "N_stars = len(all_data)\n",
    "\n",
    "#We iterate through all of the stars in the cluster catalog we loaded in previously. \n",
    "for star_index in range(N_stars):\n",
    "    \n",
    "    #Let us save this star's position to some variables.\n",
    "    star_RA = all_data.at[star_index, 'ra']\n",
    "    star_DEC = all_data.at[star_index, 'dec']\n",
    "    \n",
    "    #Making use of the distance function that you set up above. \n",
    "    dist_from_open_cluster = distance_from_cluster(star_RA, star_DEC, open_cluster_RA, open_cluster_DEC)\n",
    "    dist_from_globular_cluster = distance_from_cluster(star_RA, star_DEC, globular_cluster_RA, globular_cluster_DEC)\n",
    "    ###\n",
    "    \n",
    "    #Now we check to see if this star is in either cluster. Note that the use of a <= vs just a < is arbitrary. \n",
    "    #we will never have a distan ce exactly equal to the threshold, but it is nonetheless good pratice.\n",
    "    if dist_from_open_cluster <= dist_thresh_open_deg:\n",
    "        stars_inOpen.append(star_index)\n",
    "    if dist_from_globular_cluster <= dist_thresh_glob_deg:\n",
    "        stars_inGlobular.append(star_index)\n",
    "    \n",
    "hide_toggle.hide_toggle()"
   ]
  },
  {
   "cell_type": "markdown",
   "metadata": {
    "collapsed": true
   },
   "source": [
    "<h2>Cluster Plots</h2>\n",
    "<p1>Now we know whether each star is in either cluster, so we can go ahead and make plots of the stars in each cluster within the threshold distance you set.</p1>\n"
   ]
  },
  {
   "cell_type": "markdown",
   "metadata": {},
   "source": [
    " <h3>Open Cluster Plot</h3>"
   ]
  },
  {
   "cell_type": "code",
   "execution_count": 124,
   "metadata": {},
   "outputs": [
    {
     "data": {
      "application/vnd.jupyter.widget-view+json": {
       "model_id": "805caf7bbea344178121bcd3e0d08261",
       "version_major": 2,
       "version_minor": 0
      },
      "text/plain": [
       "aW50ZXJhY3RpdmUoY2hpbGRyZW49KFRleHQodmFsdWU9dSctMC4zMjAxMDAwMDAwMDAwMDA0JywgZGVzY3JpcHRpb249dSd4X21pbicpLCBUZXh0KHZhbHVlPXUnMy40MDQ0OTk5OTk5OTk5OTnigKY=\n"
      ]
     },
     "metadata": {},
     "output_type": "display_data"
    },
    {
     "data": {
      "text/html": [
       "\n",
       "        <script>\n",
       "            function code_toggle_6855582212619824101() {\n",
       "                $('div.cell.code_cell.rendered.selected').find('div.input').toggle();\n",
       "            }\n",
       "\n",
       "            \n",
       "        </script>\n",
       "\n",
       "        <a href=\"javascript:code_toggle_6855582212619824101()\">Toggle show/hide</a>\n",
       "    "
      ],
      "text/plain": [
       "<IPython.core.display.HTML object>"
      ]
     },
     "execution_count": 124,
     "metadata": {},
     "output_type": "execute_result"
    }
   ],
   "source": [
    "%config InlineBackend.figure_format = 'svg' #This is here to make the plots appear high-resolution\n",
    "#Now we just define some settings for our plots. If you wish to change the font sizes in the plots, you can do so here. \n",
    "params = {\n",
    "    'text.latex.preamble': ['\\\\usepackage{gensymb}'],\n",
    "    'image.origin': 'lower',\n",
    "    'image.interpolation': 'nearest',\n",
    "    'image.cmap': 'gray', #gray\n",
    "    'axes.grid': False,\n",
    "    'savefig.dpi': 300,  \n",
    "    'axes.labelsize': 16, # fontsize for x and y labels\n",
    "    'axes.titlesize': 20, \n",
    "    'font.size': 28, \n",
    "    'legend.fontsize': 10, \n",
    "    'xtick.labelsize': 14,\n",
    "    'ytick.labelsize': 14, \n",
    "    'text.usetex': False,\n",
    "    'figure.figsize': [6, 6], #[width, height]\n",
    "    'figure.autolayout': False,\n",
    "    'font.family': 'monospace',\n",
    "}\n",
    "matplotlib.rcParams.update(params) #activate the settings\n",
    "\n",
    "\n",
    "Open_cluster = pl_open.result #access the open cluster drop-down box, in case it has been cahnged since\n",
    "\n",
    "#Now we define the values to be plotted. We plot R magnitudes on the y-axis, and B-R on the x-axis. \n",
    "#Pandas iloc is used to index a panda dataframe by integer indexes (hence the \"i\" in loc, or \"location\"; \"integer location\")\n",
    "#When using iloc here, we first select all the rows we want, and then we index the column \n",
    "y_vals_open = all_data.iloc[stars_inOpen,:]['phot_rp_mean_mag']\n",
    "x_vals_open = all_data.iloc[stars_inOpen,:]['phot_bp_mean_mag'] - all_data.iloc[stars_inOpen,:]['phot_rp_mean_mag']\n",
    "###\n",
    "\n",
    "#We make a function for our plot so that we can use the interactive feature. We use matplotlib to make our plots.\n",
    "def func_open(x_min, x_max, y_min, y_max, show_title):\n",
    "    fig, ax = plt.subplots()\n",
    "    ax.set_xlabel(r'$G_{BP}-G_{RP}$')\n",
    "    ax.set_ylabel(r'$G_{RP}$')\n",
    "    ax.grid(which= 'major', linestyle='-', linewidth='0.5', color = 'black', alpha = 0.3)\n",
    "    ax.grid(which='minor', linestyle=':', linewidth='0.3', color = 'black', alpha = 0.2)\n",
    "    if show_title:\n",
    "        ax.set_title(r'$'+Open_cluster.name+'$')\n",
    "    ax.set_xlim([float(x_min), float(x_max)])\n",
    "    ax.set_ylim([float(y_max), float(y_min)])\n",
    "\n",
    "    #Make a scatter plot of the data\n",
    "    ax.scatter(x_vals_open, y_vals_open, marker = 'x', c='k')\n",
    "    plt.show()\n",
    "    \n",
    "plot_open = interact_manual(func_open, x_max=str(1.1*np.nanmax(x_vals_open)), x_min=str(np.min(x_vals_open)-abs(.1*np.min(x_vals_open))), y_max = str(1.1*np.nanmax(y_vals_open)), y_min =str(np.min(y_vals_open)-abs(.1*np.min(y_vals_open))), show_title= True)\n",
    "\n",
    "hide_toggle.hide_toggle()"
   ]
  },
  {
   "cell_type": "markdown",
   "metadata": {},
   "source": [
    " <h3>Globular Cluster Plot</h3>"
   ]
  },
  {
   "cell_type": "code",
   "execution_count": 52,
   "metadata": {},
   "outputs": [
    {
     "data": {
      "application/vnd.jupyter.widget-view+json": {
       "model_id": "c8cfa6ec835f43839fe6c24dcee65d1c",
       "version_major": 2,
       "version_minor": 0
      },
      "text/plain": [
       "aW50ZXJhY3RpdmUoY2hpbGRyZW49KFRleHQodmFsdWU9dSctMC43MzAzOTk5OTk5OTk5OTc3JywgZGVzY3JpcHRpb249dSd4X21pbicpLCBUZXh0KHZhbHVlPXUnMi44NTQ0OTk5OTk5OTk5OTnigKY=\n"
      ]
     },
     "metadata": {},
     "output_type": "display_data"
    },
    {
     "data": {
      "text/html": [
       "\n",
       "        <script>\n",
       "            function code_toggle_16828102225878862427() {\n",
       "                $('div.cell.code_cell.rendered.selected').find('div.input').toggle();\n",
       "            }\n",
       "\n",
       "            \n",
       "        </script>\n",
       "\n",
       "        <a href=\"javascript:code_toggle_16828102225878862427()\">Toggle show/hide</a>\n",
       "    "
      ],
      "text/plain": [
       "<IPython.core.display.HTML object>"
      ]
     },
     "execution_count": 52,
     "metadata": {},
     "output_type": "execute_result"
    }
   ],
   "source": [
    "#Same code as above for the open cluster, see the comments there for guidance. \n",
    "from ipywidgets import interact, interactive, fixed, interact_manual, Layout\n",
    "import numpy as np\n",
    "import matplotlib.pyplot as plt\n",
    "\n",
    "Globular_cluster = pl_glob.result\n",
    "\n",
    "y_vals_glob = all_data.iloc[stars_inGlobular,:]['phot_rp_mean_mag']\n",
    "x_vals_glob = all_data.iloc[stars_inGlobular,:]['phot_bp_mean_mag'] - all_data.iloc[stars_inGlobular,:]['phot_rp_mean_mag']\n",
    "\n",
    "def func_glob(x_min, x_max, y_min, y_max, show_title):\n",
    "    fig, ax = plt.subplots()\n",
    "    ax.set_xlabel(r'$G_{BP}-G_{RP}$')\n",
    "    ax.set_ylabel(r'$G_{RP}$')\n",
    "    ax.grid(which= 'major', linestyle='-', linewidth='0.5', color = 'black', alpha = 0.3)\n",
    "    ax.grid(which='minor', linestyle=':', linewidth='0.3', color = 'black', alpha = 0.2)\n",
    "    if show_title:\n",
    "        ax.set_title(r'$'+Globular_cluster.name+'$')\n",
    "    ax.set_xlim([float(x_min), float(x_max)])\n",
    "    ax.set_ylim([float(y_max), float(y_min)])\n",
    "    \n",
    "    ax.scatter(x_vals_glob, y_vals_glob, marker = 'x', c='k')\n",
    "    plt.show()\n",
    "    \n",
    "#interact_manual makes the element run each time the button is pressed\n",
    "#inputs: plotting function, as many interactive cells as you want:\n",
    "#Here, I make the axis limits strings so that they appear in the boxes, if you put in floats or ints a slider \n",
    "#will be used. Good examples here:\n",
    "#     https://ipywidgets.readthedocs.io/en/latest/examples/Using%20Interact.html\n",
    "plot_glob = interact_manual(func_glob, x_max=str(1.1*np.nanmax(x_vals_glob)), x_min=str(np.min(x_vals_glob)-abs(.1*np.min(x_vals_glob))), y_max = str(1.1*np.nanmax(y_vals_glob)), y_min =str(np.min(y_vals_glob)-abs(.1*np.min(y_vals_glob))), show_title = True)\n",
    "\n",
    "hide_toggle.hide_toggle()"
   ]
  },
  {
   "cell_type": "markdown",
   "metadata": {},
   "source": [
    "Now, with our general plots made, we will begin our work into fitting these plots with isochrones to determine the cluster age. First, we must convert our y-axis to be the absolute magnitude in the G_RP band. Write a function for this below:"
   ]
  },
  {
   "cell_type": "code",
   "execution_count": 125,
   "metadata": {},
   "outputs": [],
   "source": [
    "#Write a function to return the absolute magnitude of a star knowing its apparent magnitude, m, and its distance, d, in pc\n",
    "#Inputs: apparent magnitude, distance in pc\n",
    "def absolute_M(m, dist):\n",
    "    M = m - 5*np.log10(dist/10)\n",
    "    \n",
    "    return M"
   ]
  },
  {
   "cell_type": "markdown",
   "metadata": {},
   "source": [
    "<p1>Now, using the function you wrote for the absolute magnitude, we will convert our previous plots to display this, and we will also overlay the isochrones which we will later fit.</p1>"
   ]
  },
  {
   "cell_type": "code",
   "execution_count": 126,
   "metadata": {},
   "outputs": [
    {
     "data": {
      "text/html": [
       "\n",
       "        <script>\n",
       "            function code_toggle_14827635394550904027() {\n",
       "                $('div.cell.code_cell.rendered.selected').find('div.input').toggle();\n",
       "            }\n",
       "\n",
       "            \n",
       "        </script>\n",
       "\n",
       "        <a href=\"javascript:code_toggle_14827635394550904027()\">Toggle show/hide</a>\n",
       "    "
      ],
      "text/plain": [
       "<IPython.core.display.HTML object>"
      ]
     },
     "execution_count": 126,
     "metadata": {},
     "output_type": "execute_result"
    }
   ],
   "source": [
    "#In this code cell, we load in the isochrone file. The isochrone file formatting requires some careful iteration\n",
    "# in order to assemble the actual lines of isochrones on the plots soon to come, but that is all handled here.\n",
    "\n",
    "#Isochrone file format:\n",
    "# col1: logAge [Gyr]\n",
    "# col2: stellar mass [M star]\n",
    "# col3: Luminosity\n",
    "# col4: Temperature\n",
    "# col5: G\n",
    "# col6: G_BP\n",
    "# col7: G_RP\n",
    "\n",
    "isochrones = np.loadtxt(\"isochrones.txt\")\n",
    "iso_GRP = isochrones[:,6] #our \"y-values\"\n",
    "iso_GBP_GRP = isochrones[:,5]-isochrones[:,6] #our \"x_values\"\n",
    "\n",
    "\n",
    "lines = [] #this list will hold lists with the points making up each isochrone [ [(x1,y1),...,(xn,yn)],...]\n",
    "age_list = [] #This will give us a way to keep track of the isochrone ages\n",
    "num_iso = len(isochrones)\n",
    "age_count = isochrones[0][0] #This is the starting isochrone age\n",
    "start_index = 0\n",
    "\n",
    "for i in range(num_iso):\n",
    "    age_current = isochrones[i][0]\n",
    "    if age_current != age_count: #if the isochrone age changes, we know we are done with the current isochrone, and so we add its elements to the list\n",
    "        age_count = age_current\n",
    "        age_list.append(age_current)\n",
    "        lines.append(zip(iso_GBP_GRP[start_index:(i-1)],iso_GRP[start_index:(i-1)]) ) #note that the i-1 here is due to the last row of each isochrone containing meaningless data\n",
    "        start_index = i #We set the new start index to be where we noticed that the age changed\n",
    "iso_labels = [str(age)+' Gyr' for age in age_list   ]\n",
    "hide_toggle.hide_toggle()"
   ]
  },
  {
   "cell_type": "markdown",
   "metadata": {},
   "source": [
    "<h3>Open Cluster: Absolute Magnitude</h3> \n",
    "<p1><i>These plots will be saved as 'clusterName_plot' to your notebook directory.</i>\n"
   ]
  },
  {
   "cell_type": "code",
   "execution_count": 127,
   "metadata": {},
   "outputs": [
    {
     "data": {
      "application/vnd.jupyter.widget-view+json": {
       "model_id": "f37ef9505ea84c4cbf3a26ef6bde1236",
       "version_major": 2,
       "version_minor": 0
      },
      "text/plain": [
       "aW50ZXJhY3RpdmUoY2hpbGRyZW49KFRleHQodmFsdWU9dSctMC4zMjAxMDAwMDAwMDAwMDA0JywgZGVzY3JpcHRpb249dSd4X21pbicpLCBUZXh0KHZhbHVlPXUnMy40MDQ0OTk5OTk5OTk5OTnigKY=\n"
      ]
     },
     "metadata": {},
     "output_type": "display_data"
    },
    {
     "data": {
      "text/html": [
       "\n",
       "        <script>\n",
       "            function code_toggle_6480686476343851864() {\n",
       "                $('div.cell.code_cell.rendered.selected').find('div.input').toggle();\n",
       "            }\n",
       "\n",
       "            \n",
       "        </script>\n",
       "\n",
       "        <a href=\"javascript:code_toggle_6480686476343851864()\">Toggle show/hide</a>\n",
       "    "
      ],
      "text/plain": [
       "<IPython.core.display.HTML object>"
      ]
     },
     "execution_count": 127,
     "metadata": {},
     "output_type": "execute_result"
    }
   ],
   "source": [
    "#Same plotting methods as before. This time we plot Absolute Magnitude on the y-axis, and we also plot the iscohrones.\n",
    "\n",
    "Open_cluster = pl_open.result \n",
    "y_vals_open_abs = absolute_M(all_data.iloc[stars_inOpen,:]['phot_rp_mean_mag'], Open_cluster.dist)\n",
    "\n",
    "def func_open_abs(x_min, x_max, y_min, y_max, show_title):\n",
    "    line_segments = LineCollection(lines,linestyles='solid', color = 'r', lw = (0.5))\n",
    "    fig, ax = plt.subplots()\n",
    "    ax.set_xlabel(r'$G_{BP}-G_{RP}$')\n",
    "    ax.set_ylabel(r'$M_{G_{RP}}$')\n",
    "    ax.grid(which= 'major', linestyle='-', linewidth='0.5', color = 'black', alpha = 0.3)\n",
    "    ax.grid(which='minor', linestyle=':', linewidth='0.3', color = 'black', alpha = 0.2)\n",
    "    if show_title:\n",
    "        ax.set_title(r'$'+Open_cluster.name+'$')\n",
    "    ax.set_xlim([float(x_min), float(x_max)])\n",
    "    ax.set_ylim([float(y_max), float(y_min)])\n",
    "    \n",
    "    ax.scatter(x_vals_open, y_vals_open_abs, marker = 'x', c='k')\n",
    "    ax.add_collection(line_segments) #this plots the list of lines we made of isochrones\n",
    "    \n",
    "    fig.savefig(Open_cluster.name+'_plot', overwrite = True)\n",
    "    plt.show()\n",
    "\n",
    "plot_open = interact_manual(func_open_abs, x_max=str(1.1*np.nanmax(x_vals_open)), x_min=str(np.min(x_vals_open)-abs(.1*np.min(x_vals_open))), y_max = str(1.1*np.nanmax(y_vals_open_abs)), y_min =str(np.min(y_vals_open_abs)-abs(.1*np.min(y_vals_open_abs))), show_title= True)\n",
    "\n",
    "hide_toggle.hide_toggle()\n"
   ]
  },
  {
   "cell_type": "markdown",
   "metadata": {},
   "source": [
    "<h3>Globular Cluster: Absolute Magnitude</h3>\n",
    "<p1><i>These plots will be saved as 'clusterName_plot' to your notebook directory.</i>"
   ]
  },
  {
   "cell_type": "code",
   "execution_count": 56,
   "metadata": {},
   "outputs": [
    {
     "data": {
      "application/vnd.jupyter.widget-view+json": {
       "model_id": "18f6424a071c4b2aa12fef0268513986",
       "version_major": 2,
       "version_minor": 0
      },
      "text/plain": [
       "aW50ZXJhY3RpdmUoY2hpbGRyZW49KFRleHQodmFsdWU9dSctMC43MzAzOTk5OTk5OTk5OTc3JywgZGVzY3JpcHRpb249dSd4X21pbicpLCBUZXh0KHZhbHVlPXUnMi44NTQ0OTk5OTk5OTk5OTnigKY=\n"
      ]
     },
     "metadata": {},
     "output_type": "display_data"
    },
    {
     "data": {
      "text/html": [
       "\n",
       "        <script>\n",
       "            function code_toggle_15925295624640676724() {\n",
       "                $('div.cell.code_cell.rendered.selected').find('div.input').toggle();\n",
       "            }\n",
       "\n",
       "            \n",
       "        </script>\n",
       "\n",
       "        <a href=\"javascript:code_toggle_15925295624640676724()\">Toggle show/hide</a>\n",
       "    "
      ],
      "text/plain": [
       "<IPython.core.display.HTML object>"
      ]
     },
     "execution_count": 56,
     "metadata": {},
     "output_type": "execute_result"
    }
   ],
   "source": [
    "#Same plotting procedure as above.\n",
    "Globular_cluster = pl_glob.result\n",
    "y_vals_glob_abs = absolute_M(all_data.iloc[stars_inGlobular,:]['phot_rp_mean_mag'], Globular_cluster.dist)\n",
    "\n",
    "def func_glob_abs(x_min, x_max, y_min, y_max, show_title):\n",
    "    line_segments = LineCollection(lines,linestyles='solid', color = 'r', lw = (0.5))\n",
    "    fig, ax = plt.subplots()\n",
    "    ax.set_xlabel(r'$G_{BP}-G_{RP}$')\n",
    "    ax.set_ylabel(r'$G_{RP}$')\n",
    "    ax.grid(which= 'major', linestyle='-', linewidth='0.5', color = 'black', alpha = 0.3)\n",
    "    ax.grid(which='minor', linestyle=':', linewidth='0.3', color = 'black', alpha = 0.2)\n",
    "    if show_title:\n",
    "        ax.set_title(r'$'+Globular_cluster.name+'$')\n",
    "    ax.set_xlim([float(x_min), float(x_max)])\n",
    "    ax.set_ylim([float(y_max), float(y_min)])\n",
    "    \n",
    "    ax.scatter(x_vals_glob, y_vals_glob_abs, marker = 'x', c='k')\n",
    "    ax.add_collection(line_segments)\n",
    "    \n",
    "    fig.savefig(Globular_cluster.name+'_plot', overwrite= True)\n",
    "    plt.show()\n",
    "    \n",
    "plot_glob = interact_manual(func_glob_abs, x_max=str(1.1*np.nanmax(x_vals_glob)), x_min=str(np.min(x_vals_glob)-abs(.1*np.min(x_vals_glob))), y_max = str(1.1*np.nanmax(y_vals_glob_abs)), y_min =str(np.min(y_vals_glob_abs)-abs(.1*np.min(y_vals_glob_abs))), show_title = True)\n",
    "\n",
    "hide_toggle.hide_toggle()"
   ]
  },
  {
   "cell_type": "markdown",
   "metadata": {},
   "source": [
    "<h2>Final Sample Trimming: Parallax</h2>\n",
    "<p1>You will now perform one more sample cut on your clusters by using Parallax. Adjust the parallax thresholds below until you are confident that all the stars displayed are actually in your clusters. Note that these thresholds are in pc.</p1>"
   ]
  },
  {
   "cell_type": "code",
   "execution_count": 118,
   "metadata": {
    "scrolled": true
   },
   "outputs": [
    {
     "data": {
      "application/vnd.jupyter.widget-view+json": {
       "model_id": "50d9f256aa4e45a9bb51a0dbbef1a094",
       "version_major": 2,
       "version_minor": 0
      },
      "text/plain": [
       "aW50ZXJhY3RpdmUoY2hpbGRyZW49KEludFNsaWRlcih2YWx1ZT01MDAsIGRlc2NyaXB0aW9uPXUncGFyYV9PcGVuJywgbWF4PTUwMCksIEludFNsaWRlcih2YWx1ZT01MDAsIGRlc2NyaXB0aW/igKY=\n"
      ]
     },
     "metadata": {},
     "output_type": "display_data"
    },
    {
     "data": {
      "text/html": [
       "\n",
       "        <script>\n",
       "            function code_toggle_8420560573117036358() {\n",
       "                $('div.cell.code_cell.rendered.selected').find('div.input').toggle();\n",
       "            }\n",
       "\n",
       "            \n",
       "        </script>\n",
       "\n",
       "        <a href=\"javascript:code_toggle_8420560573117036358()\">Toggle show/hide</a>\n",
       "    "
      ],
      "text/plain": [
       "<IPython.core.display.HTML object>"
      ]
     },
     "execution_count": 118,
     "metadata": {},
     "output_type": "execute_result"
    }
   ],
   "source": [
    "def parallax(para_Open=500, para_Glob=500):\n",
    "    return para_Open, para_Glob\n",
    "\n",
    "#Again, we make the interactive elements.\n",
    "pl_para = interactive(parallax, para_Open = (0, 500), para__Glob = (0,15000) )\n",
    "display(pl_para)\n",
    "#x_open_old = x_vals_open\n",
    "#x_glob_old = x_vals_glob\n",
    "\n",
    "hide_toggle.hide_toggle()"
   ]
  },
  {
   "cell_type": "code",
   "execution_count": 119,
   "metadata": {},
   "outputs": [
    {
     "data": {
      "text/html": [
       "\n",
       "        <script>\n",
       "            function code_toggle_10740471099179292416() {\n",
       "                $('div.cell.code_cell.rendered.selected').find('div.input').toggle();\n",
       "            }\n",
       "\n",
       "            \n",
       "        </script>\n",
       "\n",
       "        <a href=\"javascript:code_toggle_10740471099179292416()\">Toggle show/hide</a>\n",
       "    "
      ],
      "text/plain": [
       "<IPython.core.display.HTML object>"
      ]
     },
     "execution_count": 119,
     "metadata": {},
     "output_type": "execute_result"
    }
   ],
   "source": [
    "\n",
    "#x_open_trim,  y_open_trim = para_trim(x_vals_open, y_vals_openm, all_data.iloc[stars_inOpen,:]['parallax'],pl_para.result[0])\n",
    "def para_trim(x_vals, y_vals, para_vals, para_thresh, red, cluster_d):\n",
    "    para_vals = [val/1000 for val in para_vals]\n",
    "\n",
    "    indeces_keep = []\n",
    "    N = len(para_vals)\n",
    "    for i in range(N):\n",
    "        #Changed to factor in the cluster distance\n",
    "        #if para_vals[i] != 0:\n",
    "           # print abs(cluster_d - abs(1/para_vals[i]))\n",
    "        if para_vals[i] != 0 and abs(cluster_d - abs(1/para_vals[i])) <= para_thresh:\n",
    "            indeces_keep.append(i)\n",
    "            print abs(cluster_d - abs(1/para_vals[i]))\n",
    "    x_new = [x_vals[ind]-red for ind in  indeces_keep]\n",
    "    y_new = [y_vals.values[ind] for ind in  indeces_keep]\n",
    "    return x_new, y_new\n",
    "hide_toggle.hide_toggle()"
   ]
  },
  {
   "cell_type": "markdown",
   "metadata": {},
   "source": [
    "<h2>Reddening</h2>\n",
    "<p1>Now, you must correct for reddening in the plots above. Below is a slider which you will adjust to enter in the reddening for your clusters. (Note that we are shifting the plots to the right when we adjust for reddening.</p1>"
   ]
  },
  {
   "cell_type": "code",
   "execution_count": 92,
   "metadata": {},
   "outputs": [
    {
     "data": {
      "application/vnd.jupyter.widget-view+json": {
       "model_id": "bfb98f7f7d35429abc0d8d3d04ee3db8",
       "version_major": 2,
       "version_minor": 0
      },
      "text/plain": [
       "aW50ZXJhY3RpdmUoY2hpbGRyZW49KEZsb2F0U2xpZGVyKHZhbHVlPTAuMCwgZGVzY3JpcHRpb249dSdyX09wZW4nLCBtYXg9MS4wLCBtaW49LTEuMCksIEZsb2F0U2xpZGVyKHZhbHVlPTAuMCzigKY=\n"
      ]
     },
     "metadata": {},
     "output_type": "display_data"
    },
    {
     "data": {
      "text/html": [
       "\n",
       "        <script>\n",
       "            function code_toggle_13948482888306896298() {\n",
       "                $('div.cell.code_cell.rendered.selected').find('div.input').toggle();\n",
       "            }\n",
       "\n",
       "            \n",
       "        </script>\n",
       "\n",
       "        <a href=\"javascript:code_toggle_13948482888306896298()\">Toggle show/hide</a>\n",
       "    "
      ],
      "text/plain": [
       "<IPython.core.display.HTML object>"
      ]
     },
     "execution_count": 92,
     "metadata": {},
     "output_type": "execute_result"
    }
   ],
   "source": [
    "def reddening(r_Open=0.0, r_Globular=0.0):\n",
    "    return r_Open, r_Globular\n",
    "\n",
    "#Again, we make the interactive elements.\n",
    "pl_red = interactive(reddening, r_Open = (-1.0, 1.0), r_Globular = (-1.0,1.0), )\n",
    "display(pl_red)\n",
    "x_open_old = x_vals_open\n",
    "x_glob_old = x_vals_glob\n",
    "\n",
    "hide_toggle.hide_toggle()\n"
   ]
  },
  {
   "cell_type": "markdown",
   "metadata": {},
   "source": [
    "<h4>Open Cluster: Reddening Adjusted + Sample trimmed</h4>"
   ]
  },
  {
   "cell_type": "code",
   "execution_count": 128,
   "metadata": {
    "scrolled": false
   },
   "outputs": [
    {
     "name": "stdout",
     "output_type": "stream",
     "text": [
      "4.58707100054\n",
      "20.0443349754\n",
      "12.9335232669\n",
      "20.4333662389\n",
      "13.4761904762\n",
      "5.44398696174\n",
      "12.092348285\n",
      "9.18506795755\n",
      "15.3446816696\n",
      "27.7082906858\n",
      "2.27572606669\n",
      "10.3711823122\n",
      "42.7357679914\n",
      "88.9574468085\n",
      "80.2016460905\n",
      "5.14936247723\n",
      "14.4241960184\n",
      "14.2411550966\n",
      "11.2530120482\n",
      "109.204922725\n",
      "13.6577693041\n",
      "22.4415636219\n",
      "7.36578171091\n",
      "7.56995201181\n",
      "94.8868950517\n",
      "39.8256721596\n",
      "7.53589223104\n",
      "46.4636871508\n",
      "9.08113137328\n",
      "75.7167045742\n",
      "36.9495079161\n",
      "16.7984496124\n",
      "3.02644398051\n",
      "16.3861922259\n",
      "11.7504718762\n",
      "28.7189878626\n",
      "68.3987730061\n",
      "10.3711823122\n",
      "43.577718479\n",
      "11.7148518588\n",
      "107.656988329\n",
      "92.687162891\n",
      "29.0156571899\n",
      "12.1789632993\n",
      "7.02649981597\n",
      "4.75209014904\n",
      "11.893086513\n",
      "48.8441625016\n",
      "12.1431813883\n",
      "88.1816494299\n",
      "15.1229586936\n",
      "11.6436521411\n",
      "14.5832385902\n",
      "28.2123948286\n",
      "12.3939393939\n",
      "22.6007984032\n",
      "9.21973929237\n",
      "75.0161290323\n",
      "37.4082332762\n",
      "37.0410958904\n",
      "93.4895861509\n",
      "23.7628990163\n",
      "52.5157218269\n",
      "68.8210422812\n",
      "30.5550020756\n",
      "68.0980392157\n",
      "32.2925910423\n",
      "113.951411114\n",
      "4.38944313441\n",
      "73.6893958386\n",
      "8.42555164102\n",
      "13.4399162064\n",
      "8.70102135562\n",
      "1.71516213848\n",
      "92.6144513346\n",
      "33.6593638087\n",
      "9.5671641791\n",
      "11.3239171375\n",
      "10.8287002254\n",
      "44.5330084183\n",
      "9.46280067127\n",
      "14.8281220027\n",
      "93.8559046587\n",
      "1.31669044223\n",
      "6.84515909478\n",
      "0.88164846777\n",
      "9.70649738611\n",
      "71.3854942871\n",
      "62.8317159493\n",
      "91.1684097613\n",
      "43.361392684\n",
      "8.25379770285\n",
      "60.8686964795\n",
      "115.911540715\n",
      "6.89113644722\n",
      "126.490136571\n",
      "45.6675573369\n",
      "7.60402436773\n",
      "12.0359168242\n",
      "57.5684939687\n",
      "9.6368047779\n",
      "6.95879323032\n",
      "7.29782528566\n"
     ]
    },
    {
     "data": {
      "application/vnd.jupyter.widget-view+json": {
       "model_id": "4c92c5a53a9f4568b5854f84e96516b2",
       "version_major": 2,
       "version_minor": 0
      },
      "text/plain": [
       "aW50ZXJhY3RpdmUoY2hpbGRyZW49KFRleHQodmFsdWU9dSctMC4zMjAxMDAwMDAwMDAwMDA0JywgZGVzY3JpcHRpb249dSd4X21pbicpLCBUZXh0KHZhbHVlPXUnMy40MDQ0OTk5OTk5OTk5OTnigKY=\n"
      ]
     },
     "metadata": {},
     "output_type": "display_data"
    },
    {
     "data": {
      "text/html": [
       "\n",
       "        <script>\n",
       "            function code_toggle_7705357090657299194() {\n",
       "                $('div.cell.code_cell.rendered.selected').find('div.input').toggle();\n",
       "            }\n",
       "\n",
       "            \n",
       "        </script>\n",
       "\n",
       "        <a href=\"javascript:code_toggle_7705357090657299194()\">Toggle show/hide</a>\n",
       "    "
      ],
      "text/plain": [
       "<IPython.core.display.HTML object>"
      ]
     },
     "execution_count": 128,
     "metadata": {},
     "output_type": "execute_result"
    }
   ],
   "source": [
    "\n",
    "red_open = pl_red.result[0]\n",
    "\n",
    "x_open_trim,  y_open_trim = para_trim(x_vals_open.values, y_vals_open_abs, all_data.iloc[stars_inOpen,:]['parallax'],pl_para.result[0],red_open, Open_cluster.dist)\n",
    "\n",
    "def func_open_abs_red(x_min, x_max, y_min, y_max, show_title):\n",
    "    fig, ax = plt.subplots()\n",
    "    ax.set_xlabel(r'$G_{BP}-G_{RP}$')\n",
    "    ax.set_ylabel(r'$M_{G_{RP}}$')\n",
    "    ax.grid(which= 'major', linestyle='-', linewidth='0.5', color = 'black', alpha = 0.3)\n",
    "    ax.grid(which='minor', linestyle=':', linewidth='0.3', color = 'black', alpha = 0.2)\n",
    "    if show_title:\n",
    "        ax.set_title(r'$'+Open_cluster.name+'$')\n",
    "    ax.set_xlim([float(x_min), float(x_max)])\n",
    "    ax.set_ylim([float(y_max), float(y_min)])\n",
    "    \n",
    "    ax.scatter(x_open_trim, y_open_trim, marker = 'x', c='k', label = '_nolegend_')\n",
    "    colormap = plt.cm.tab20 #I suggest to use nipy_spectral, Set1,Paired\n",
    "    ax.set_color_cycle([colormap(i) for i in np.linspace(0, 1,len(age_list))])\n",
    "    \n",
    "    for i in range(len(age_list)):\n",
    "        xy = map(list, zip(*lines[i]))\n",
    "        if i % 2 == 0 :\n",
    "            ax.plot(xy[0], xy[1], label = iso_labels[i],ls= 'dashed')\n",
    "        else:\n",
    "            ax.plot(xy[0], xy[1], label = iso_labels[i] )\n",
    "    \n",
    "    ax.legend( loc='center left', bbox_to_anchor=(1, 0.5))\n",
    "    plt.show()\n",
    "\n",
    "plot_open = interact_manual(func_open_abs_red, x_max=str(1.1*np.nanmax(x_vals_open)), x_min=str(np.min(x_vals_open)-abs(.1*np.min(x_vals_open))), y_max = str(1.1*np.nanmax(y_vals_open_abs)), y_min =str(np.min(y_vals_open_abs)-abs(.1*np.min(y_vals_open_abs))), show_title= True)\n",
    "hide_toggle.hide_toggle()"
   ]
  },
  {
   "cell_type": "markdown",
   "metadata": {},
   "source": [
    "<h4>Globular Cluster: Reddening Adjusted + Sample trimmed</h4>"
   ]
  },
  {
   "cell_type": "code",
   "execution_count": 61,
   "metadata": {
    "scrolled": false
   },
   "outputs": [
    {
     "name": "stdout",
     "output_type": "stream",
     "text": [
      "437.507936508\n",
      "456.746478873\n",
      "406.80141844\n",
      "437.507936508\n",
      "146.058823529\n",
      "456.746478873\n",
      "375.015748031\n",
      "36.3134328358\n",
      "304.755395683\n",
      "91.5925925926\n",
      "134.58778626\n",
      "19.7969924812\n",
      "437.507936508\n",
      "252.623188406\n",
      "375.015748031\n",
      "375.015748031\n",
      "193.307692308\n",
      "252.937984496\n",
      "437.507936508\n",
      "375.015748031\n",
      "146.058823529\n",
      "193.307692308\n",
      "199.729927007\n",
      "134.58778626\n",
      "199.729927007\n",
      "252.937984496\n",
      "456.746478873\n",
      "375.015748031\n",
      "313.5\n",
      "437.507936508\n",
      "456.746478873\n",
      "76.7575757576\n",
      "19.7969924812\n",
      "91.5925925926\n",
      "304.755395683\n",
      "313.5\n",
      "193.307692308\n",
      "356.142857143\n",
      "375.015748031\n",
      "36.3134328358\n",
      "252.623188406\n",
      "199.729927007\n",
      "146.058823529\n",
      "406.80141844\n",
      "437.507936508\n",
      "313.5\n",
      "252.623188406\n",
      "375.015748031\n",
      "456.746478873\n",
      "199.729927007\n",
      "313.5\n",
      "134.58778626\n",
      "91.5925925926\n"
     ]
    },
    {
     "data": {
      "application/vnd.jupyter.widget-view+json": {
       "model_id": "b21e6603e30e4bb8a4faf72bbd6665d2",
       "version_major": 2,
       "version_minor": 0
      },
      "text/plain": [
       "aW50ZXJhY3RpdmUoY2hpbGRyZW49KFRleHQodmFsdWU9dSctMC43MzAzOTk5OTk5OTk5OTc3JywgZGVzY3JpcHRpb249dSd4X21pbicpLCBUZXh0KHZhbHVlPXUnMi44NTQ0OTk5OTk5OTk5OTnigKY=\n"
      ]
     },
     "metadata": {},
     "output_type": "display_data"
    },
    {
     "data": {
      "text/html": [
       "\n",
       "        <script>\n",
       "            function code_toggle_5248129648773428557() {\n",
       "                $('div.cell.code_cell.rendered.selected').find('div.input').toggle();\n",
       "            }\n",
       "\n",
       "            \n",
       "        </script>\n",
       "\n",
       "        <a href=\"javascript:code_toggle_5248129648773428557()\">Toggle show/hide</a>\n",
       "    "
      ],
      "text/plain": [
       "<IPython.core.display.HTML object>"
      ]
     },
     "execution_count": 61,
     "metadata": {},
     "output_type": "execute_result"
    }
   ],
   "source": [
    "red_glob = pl_red.result[1]\n",
    "\n",
    "x_glob_trim,  y_glob_trim = para_trim(x_vals_glob.values, y_vals_glob_abs, all_data.iloc[stars_inGlobular,:]['parallax'],pl_para.result[1], red_glob,Globular_cluster.dist)\n",
    "def func_glob_abs_red(x_min, x_max, y_min, y_max, show_title):\n",
    "    fig, ax = plt.subplots()\n",
    "    ax.set_xlabel(r'$G_{BP}-G_{RP}$')\n",
    "    ax.set_ylabel(r'$M_{G_{RP}}$')\n",
    "    ax.grid(which= 'major', linestyle='-', linewidth='0.5', color = 'black', alpha = 0.3)\n",
    "    ax.grid(which='minor', linestyle=':', linewidth='0.3', color = 'black', alpha = 0.2)\n",
    "    if show_title:\n",
    "        ax.set_title(r'$'+Globular_cluster.name+'$')\n",
    "    ax.set_xlim([float(x_min), float(x_max)])\n",
    "    ax.set_ylim([float(y_max), float(y_min)])\n",
    "    \n",
    "    ax.scatter(x_glob_trim, y_glob_trim, marker = 'x', c='k',label = '_nolegend_')\n",
    "\n",
    "    colormap = plt.cm.tab20 #I suggest to use nipy_spectral, Set1,Paired\n",
    "    ax.set_color_cycle([colormap(i) for i in np.linspace(0, 1,len(age_list))])\n",
    "    \n",
    "    for i in range(len(age_list)):\n",
    "        xy = map(list, zip(*lines[i]))\n",
    "        if i % 2 == 0 :\n",
    "            ax.plot(xy[0], xy[1], label = iso_labels[i],ls= 'dashed')\n",
    "        else:\n",
    "            ax.plot(xy[0], xy[1], label = iso_labels[i] )\n",
    "          \n",
    "    ax.legend( loc='center left', bbox_to_anchor=(1, 0.5))\n",
    "    plt.show()\n",
    "\n",
    "plot_glob = interact_manual(func_glob_abs_red, x_max=str(1.1*np.nanmax(x_vals_glob)), x_min=str(np.min(x_vals_glob)-abs(.1*np.min(x_vals_glob))), y_max = str(1.1*np.nanmax(y_vals_glob_abs)), y_min =str(np.min(y_vals_glob_abs)-abs(.1*np.min(y_vals_glob_abs))), show_title = True)\n",
    "\n",
    "hide_toggle.hide_toggle()"
   ]
  },
  {
   "cell_type": "markdown",
   "metadata": {},
   "source": [
    "<h3> Final Plots </h3>\n",
    "<p1>Now you will make your final plots which will contain only the best-fit isochrone that you choose.</p1>"
   ]
  },
  {
   "cell_type": "markdown",
   "metadata": {},
   "source": [
    "<p1>First, choose the best-fit isochrones from the drop-down-menus below.</p1> "
   ]
  },
  {
   "cell_type": "code",
   "execution_count": 77,
   "metadata": {},
   "outputs": [
    {
     "data": {
      "application/vnd.jupyter.widget-view+json": {
       "model_id": "1158f0694d79463481d881e89582cd5a",
       "version_major": 2,
       "version_minor": 0
      },
      "text/plain": [
       "aW50ZXJhY3RpdmUoY2hpbGRyZW49KERyb3Bkb3duKGRlc2NyaXB0aW9uPXUnT3Blbl9pc28nLCBvcHRpb25zPXsnOC42IEd5cic6IDEwLCAnOC45IEd5cic6IDEzLCAnOC40IEd5cic6IDgsICfigKY=\n"
      ]
     },
     "metadata": {},
     "output_type": "display_data"
    },
    {
     "data": {
      "application/vnd.jupyter.widget-view+json": {
       "model_id": "b1aa1fec3b814712b15d64cfc0bf0b47",
       "version_major": 2,
       "version_minor": 0
      },
      "text/plain": [
       "aW50ZXJhY3RpdmUoY2hpbGRyZW49KERyb3Bkb3duKGRlc2NyaXB0aW9uPXUnR2xvYnVsYXJfaXNvJywgb3B0aW9ucz17JzguNiBHeXInOiAxMCwgJzguOSBHeXInOiAxMywgJzguNCBHeXInOiDigKY=\n"
      ]
     },
     "metadata": {},
     "output_type": "display_data"
    },
    {
     "data": {
      "text/html": [
       "\n",
       "        <script>\n",
       "            function code_toggle_6802901471456829986() {\n",
       "                $('div.cell.code_cell.rendered.selected').find('div.input').toggle();\n",
       "            }\n",
       "\n",
       "            \n",
       "        </script>\n",
       "\n",
       "        <a href=\"javascript:code_toggle_6802901471456829986()\">Toggle show/hide</a>\n",
       "    "
      ],
      "text/plain": [
       "<IPython.core.display.HTML object>"
      ]
     },
     "execution_count": 77,
     "metadata": {},
     "output_type": "execute_result"
    }
   ],
   "source": [
    "def open_iso(Open_iso):\n",
    "    return Open_iso\n",
    "def glob_iso(Globular_iso):\n",
    "    return Globular_iso\n",
    "\n",
    "#These lines of code made use of ipywidgets interactive to display the drop-down-menus below.\n",
    "\n",
    "pl_open_iso = interactive(open_iso, Open_iso = {(str(age_list[i])+' Gyr'):i for i in range(len(age_list)) })\n",
    "pl_glob_iso = interactive(glob_iso, Globular_iso = {(str(age_list[i])+' Gyr'):i for i in range(len(age_list)) })\n",
    "display(pl_open_iso)\n",
    "display(pl_glob_iso)\n",
    "hide_toggle.hide_toggle()"
   ]
  },
  {
   "cell_type": "markdown",
   "metadata": {},
   "source": [
    "<h4>Open Cluster</h4>"
   ]
  },
  {
   "cell_type": "code",
   "execution_count": 79,
   "metadata": {
    "scrolled": false
   },
   "outputs": [
    {
     "name": "stdout",
     "output_type": "stream",
     "text": [
      "4.58707100054\n",
      "20.0443349754\n",
      "12.9335232669\n",
      "20.4333662389\n",
      "13.4761904762\n",
      "5.44398696174\n",
      "12.092348285\n",
      "9.18506795755\n",
      "15.3446816696\n",
      "27.7082906858\n",
      "2.27572606669\n",
      "10.3711823122\n",
      "42.7357679914\n",
      "5.14936247723\n",
      "14.4241960184\n",
      "14.2411550966\n",
      "11.2530120482\n",
      "13.6577693041\n",
      "22.4415636219\n",
      "7.36578171091\n",
      "7.56995201181\n",
      "39.8256721596\n",
      "7.53589223104\n",
      "46.4636871508\n",
      "9.08113137328\n",
      "36.9495079161\n",
      "16.7984496124\n",
      "3.02644398051\n",
      "16.3861922259\n",
      "11.7504718762\n",
      "28.7189878626\n",
      "68.3987730061\n",
      "10.3711823122\n",
      "43.577718479\n",
      "11.7148518588\n",
      "29.0156571899\n",
      "12.1789632993\n",
      "7.02649981597\n",
      "4.75209014904\n",
      "11.893086513\n",
      "48.8441625016\n",
      "12.1431813883\n",
      "15.1229586936\n",
      "11.6436521411\n",
      "14.5832385902\n",
      "28.2123948286\n",
      "12.3939393939\n",
      "4.38944313441\n",
      "8.42555164102\n",
      "8.70102135562\n",
      "9.5671641791\n",
      "10.8287002254\n",
      "45.6675573369\n",
      "7.29782528566\n"
     ]
    },
    {
     "data": {
      "application/vnd.jupyter.widget-view+json": {
       "model_id": "613d0b6e63ed47de91b36add820270da",
       "version_major": 2,
       "version_minor": 0
      },
      "text/plain": [
       "aW50ZXJhY3RpdmUoY2hpbGRyZW49KFRleHQodmFsdWU9dSctMC4xMDIyOTk5OTk5OTk5OTk5NycsIGRlc2NyaXB0aW9uPXUneF9taW4nKSwgVGV4dCh2YWx1ZT11JzMuMzUzOScsIGRlc2NyaXDigKY=\n"
      ]
     },
     "metadata": {},
     "output_type": "display_data"
    },
    {
     "data": {
      "text/html": [
       "\n",
       "        <script>\n",
       "            function code_toggle_13544809281016461010() {\n",
       "                $('div.cell.code_cell.rendered.selected').find('div.input').toggle();\n",
       "            }\n",
       "\n",
       "            \n",
       "        </script>\n",
       "\n",
       "        <a href=\"javascript:code_toggle_13544809281016461010()\">Toggle show/hide</a>\n",
       "    "
      ],
      "text/plain": [
       "<IPython.core.display.HTML object>"
      ]
     },
     "execution_count": 79,
     "metadata": {},
     "output_type": "execute_result"
    }
   ],
   "source": [
    "Open_iso = pl_open_iso.result\n",
    "x_open_trim,  y_open_trim = para_trim(x_vals_open.values, y_vals_open_abs, all_data.iloc[stars_inOpen,:]['parallax'],pl_para.result[0],  pl_red.result[0], Open_cluster.dist)\n",
    "\n",
    "\n",
    "def func_open_abs_red_f(x_min, x_max, y_min, y_max, show_title):\n",
    "    fig, ax = plt.subplots()\n",
    "    ax.set_xlabel(r'$G_{BP}-G_{RP}$')\n",
    "    ax.set_ylabel(r'$M_{G_{RP}}$')\n",
    "    ax.grid(which= 'major', linestyle='-', linewidth='0.5', color = 'black', alpha = 0.3)\n",
    "    ax.grid(which='minor', linestyle=':', linewidth='0.3', color = 'black', alpha = 0.2)\n",
    "    if show_title:\n",
    "        ax.set_title(r'$'+Open_cluster.name+'$')\n",
    "    ax.set_xlim([float(x_min), float(x_max)])\n",
    "    ax.set_ylim([float(y_max), float(y_min)])\n",
    "    \n",
    "    ax.scatter(x_open_trim, y_open_trim, marker = 'x', c='k', label = '_nolegend_')\n",
    "    colormap = plt.cm.tab20 #I suggest to use nipy_spectral, Set1,Paired\n",
    "    ax.set_color_cycle([colormap(i) for i in np.linspace(0, 1,len(age_list))])\n",
    "    \n",
    "    xy = map(list, zip(*lines[Open_iso]))\n",
    "    ax.plot(xy[0], xy[1], label = iso_labels[Open_iso] ,c = 'r')\n",
    "    \n",
    "    ax.legend( loc=0 , frameon = False)\n",
    "    plt.show()\n",
    "\n",
    "plot_open = interact_manual(func_open_abs_red_f, x_max=str(1.1*np.nanmax(x_vals_open)), x_min=str(np.min(x_vals_open)-abs(.1*np.min(x_vals_open))), y_max = str(1.1*np.nanmax(y_vals_open_abs)), y_min =str(np.min(y_vals_open_abs)-abs(.1*np.min(y_vals_open_abs))), show_title= True)\n",
    "hide_toggle.hide_toggle()\n"
   ]
  },
  {
   "cell_type": "markdown",
   "metadata": {},
   "source": [
    "<h4>Globular Cluster Final</h4>"
   ]
  },
  {
   "cell_type": "code",
   "execution_count": 82,
   "metadata": {
    "scrolled": false
   },
   "outputs": [
    {
     "name": "stdout",
     "output_type": "stream",
     "text": [
      "437.507936508\n",
      "456.746478873\n",
      "406.80141844\n",
      "437.507936508\n",
      "146.058823529\n",
      "456.746478873\n",
      "375.015748031\n",
      "36.3134328358\n",
      "304.755395683\n",
      "91.5925925926\n",
      "134.58778626\n",
      "19.7969924812\n",
      "437.507936508\n",
      "252.623188406\n",
      "375.015748031\n",
      "375.015748031\n",
      "193.307692308\n",
      "252.937984496\n",
      "437.507936508\n",
      "375.015748031\n",
      "146.058823529\n",
      "193.307692308\n",
      "199.729927007\n",
      "134.58778626\n",
      "199.729927007\n",
      "252.937984496\n",
      "456.746478873\n",
      "375.015748031\n",
      "313.5\n",
      "437.507936508\n",
      "456.746478873\n",
      "76.7575757576\n",
      "19.7969924812\n",
      "91.5925925926\n",
      "304.755395683\n",
      "313.5\n",
      "193.307692308\n",
      "356.142857143\n",
      "375.015748031\n",
      "36.3134328358\n",
      "252.623188406\n",
      "199.729927007\n",
      "146.058823529\n",
      "406.80141844\n",
      "437.507936508\n",
      "313.5\n",
      "252.623188406\n",
      "375.015748031\n",
      "456.746478873\n",
      "199.729927007\n",
      "313.5\n",
      "134.58778626\n",
      "91.5925925926\n"
     ]
    },
    {
     "data": {
      "application/vnd.jupyter.widget-view+json": {
       "model_id": "d5e898f24fcf4a75982f7d9395deba9c",
       "version_major": 2,
       "version_minor": 0
      },
      "text/plain": [
       "aW50ZXJhY3RpdmUoY2hpbGRyZW49KFRleHQodmFsdWU9dSctMC43MzAzOTk5OTk5OTk5OTc3JywgZGVzY3JpcHRpb249dSd4X21pbicpLCBUZXh0KHZhbHVlPXUnMi44NTQ0OTk5OTk5OTk5OTnigKY=\n"
      ]
     },
     "metadata": {},
     "output_type": "display_data"
    },
    {
     "data": {
      "text/html": [
       "\n",
       "        <script>\n",
       "            function code_toggle_15133887918122768829() {\n",
       "                $('div.cell.code_cell.rendered.selected').find('div.input').toggle();\n",
       "            }\n",
       "\n",
       "            \n",
       "        </script>\n",
       "\n",
       "        <a href=\"javascript:code_toggle_15133887918122768829()\">Toggle show/hide</a>\n",
       "    "
      ],
      "text/plain": [
       "<IPython.core.display.HTML object>"
      ]
     },
     "execution_count": 82,
     "metadata": {},
     "output_type": "execute_result"
    }
   ],
   "source": [
    "Globular_iso = pl_glob_iso.result\n",
    "x_glob_trim,  y_glob_trim = para_trim(x_vals_glob.values, y_vals_glob_abs, all_data.iloc[stars_inGlobular,:]['parallax'],pl_para.result[1], pl_red.result[1],Globular_cluster.dist)\n",
    "\n",
    "\n",
    "def func_glob_abs_red_f(x_min, x_max, y_min, y_max, show_title):\n",
    "    fig, ax = plt.subplots()\n",
    "    ax.set_xlabel(r'$G_{BP}-G_{RP}$')\n",
    "    ax.set_ylabel(r'$M_{G_{RP}}$')\n",
    "    ax.grid(which= 'major', linestyle='-', linewidth='0.5', color = 'black', alpha = 0.3)\n",
    "    ax.grid(which='minor', linestyle=':', linewidth='0.3', color = 'black', alpha = 0.2)\n",
    "    if show_title:\n",
    "        ax.set_title(r'$'+Globular_cluster.name+'$')\n",
    "    ax.set_xlim([float(x_min), float(x_max)])\n",
    "    ax.set_ylim([float(y_max), float(y_min)])\n",
    "    \n",
    "    ax.scatter(x_glob_trim, y_glob_trim, marker = 'x', c='k',label = '_nolegend_')\n",
    "    colormap = plt.cm.tab20 #I suggest to use nipy_spectral, Set1,Paired\n",
    "    ax.set_color_cycle([colormap(i) for i in np.linspace(0, 1,len(age_list))])\n",
    "    \n",
    "    xy = map(list, zip(*lines[Globular_iso]))\n",
    "    ax.plot(xy[0], xy[1], label = iso_labels[Globular_iso] ,c = 'r')\n",
    "    \n",
    "    ax.legend( loc=0 , frameon = False)\n",
    "    plt.show()\n",
    "\n",
    "plot_glob = interact_manual(func_glob_abs_red_f, x_max=str(1.1*np.nanmax(x_vals_glob)), x_min=str(np.min(x_vals_glob)-abs(.1*np.min(x_vals_glob))), y_max = str(1.1*np.nanmax(y_vals_glob_abs)), y_min =str(np.min(y_vals_glob_abs)-abs(.1*np.min(y_vals_glob_abs))), show_title = True)\n",
    "hide_toggle.hide_toggle()\n"
   ]
  },
  {
   "cell_type": "code",
   "execution_count": null,
   "metadata": {},
   "outputs": [],
   "source": []
  },
  {
   "cell_type": "code",
   "execution_count": null,
   "metadata": {},
   "outputs": [],
   "source": []
  },
  {
   "cell_type": "code",
   "execution_count": null,
   "metadata": {},
   "outputs": [],
   "source": []
  }
 ],
 "metadata": {
  "kernelspec": {
   "display_name": "Python 2",
   "language": "python",
   "name": "python2"
  },
  "language_info": {
   "codemirror_mode": {
    "name": "ipython",
    "version": 2
   },
   "file_extension": ".py",
   "mimetype": "text/x-python",
   "name": "python",
   "nbconvert_exporter": "python",
   "pygments_lexer": "ipython2",
   "version": "2.7.16"
  }
 },
 "nbformat": 4,
 "nbformat_minor": 2
}
